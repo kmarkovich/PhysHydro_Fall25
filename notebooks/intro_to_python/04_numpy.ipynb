{
 "cells": [
  {
   "cell_type": "markdown",
   "metadata": {},
   "source": [
    "# Introduction to python for hydrologists &mdash; NumPy\n",
    "\n",
    "This notebook demonstrates how to import and use the Numpy module to work with arrays. The NumPy library includes (among other things) ways of storing and manipulating data that are more efficient than standard Python arrays. Using NumPy with numerical data is much faster than using Python lists or tuples.\n",
    "\n",
    "### References\n",
    "[Numpy documentation](https://docs.scipy.org/doc/)  \n",
    "The [Scipy lecture notes](http://scipy-lectures.org/intro/numpy/index.html) provide a pretty comprehensive demo of the core features of numpy.\n",
    "\n",
    "\n",
    "\n",
    "### Outline\n",
    "* Loading Numpy\n",
    "* Creating a Numpy Array\n",
    "* Array Operations\n",
    "* Accessing Array Elements\n",
    "* Reshaping and Stacking Arrays\n",
    "* Record Arrays\n"
   ]
  },
  {
   "cell_type": "code",
   "execution_count": 104,
   "metadata": {},
   "outputs": [
    {
     "name": "stdout",
     "output_type": "stream",
     "text": [
      "Data will be loaded from the following directory:  ./data\n"
     ]
    }
   ],
   "source": [
    "import os\n",
    "import matplotlib.pyplot as plt\n",
    "\n",
    "#this line sets up the directory paths that we will be using\n",
    "datapath = os.path.join('.', 'data')\n",
    "print('Data will be loaded from the following directory: ', datapath)"
   ]
  },
  {
   "cell_type": "markdown",
   "metadata": {},
   "source": [
    "## Loading Numpy\n",
    "The first step is to load the numpy module.  The common approach for loading numpy is to rename it as \"np\" as part of the import statement as follows.\n",
    "\n",
    "Note that at any time, you can enter the name of an object or method and the \"?\" to see help.  Also remember that shift-tab will bring help."
   ]
  },
  {
   "cell_type": "code",
   "execution_count": 105,
   "metadata": {},
   "outputs": [],
   "source": [
    "import numpy as np"
   ]
  },
  {
   "cell_type": "markdown",
   "metadata": {},
   "source": [
    "Many packages, including Numpy, have a `__version__` attribute.  It is a good idea to be aware of what package version you are using."
   ]
  },
  {
   "cell_type": "code",
   "execution_count": 106,
   "metadata": {},
   "outputs": [
    {
     "name": "stdout",
     "output_type": "stream",
     "text": [
      "I am running numpy version:  2.2.5\n"
     ]
    }
   ],
   "source": [
    "#To see the version of numpy that was loaded, enter the following command\n",
    "print('I am running numpy version: ', np.__version__)"
   ]
  },
  {
   "cell_type": "markdown",
   "metadata": {},
   "source": [
    "## Creating a NumPy Array\n",
    "\n",
    "There are several way to create a numpy array (called an ndarray). These include:\n",
    "1. Convert a list or tuple into an array\n",
    "2. Use a numpy function\n",
    "3. Read from a file"
   ]
  },
  {
   "cell_type": "markdown",
   "metadata": {},
   "source": [
    "### Creating a Numpy Array from a List\n",
    "The following is an example of converting a list into a numpy array using the numpy [array](http://wiki.scipy.org/Numpy_Example_List#array) function."
   ]
  },
  {
   "cell_type": "code",
   "execution_count": 107,
   "metadata": {},
   "outputs": [
    {
     "name": "stdout",
     "output_type": "stream",
     "text": [
      "The array is:  [1 3 5 7]\n",
      "The type of an array is:  <class 'numpy.ndarray'>\n"
     ]
    }
   ],
   "source": [
    "#create a new list\n",
    "lst = [1, 3, 5, 7]\n",
    "\n",
    "#convert the list into a new array\n",
    "a = np.array(lst)\n",
    "\n",
    "#print some information about the new array\n",
    "print('The array is: ', a)\n",
    "print('The type of an array is: ', type(a))"
   ]
  },
  {
   "cell_type": "code",
   "execution_count": 108,
   "metadata": {},
   "outputs": [],
   "source": [
    "#Note that the following does not work.  Brackets are required so that the input is a list.\n",
    "#a = np.array(1, 2, 3)"
   ]
  },
  {
   "cell_type": "markdown",
   "metadata": {},
   "source": [
    "Every array contains additional information that is stored as an attribute as part of the array.  These attributes include the dimension (ndim) and the array shape (shape), for example."
   ]
  },
  {
   "cell_type": "code",
   "execution_count": 109,
   "metadata": {},
   "outputs": [
    {
     "name": "stdout",
     "output_type": "stream",
     "text": [
      "The number of dimensions for a:  1\n"
     ]
    }
   ],
   "source": [
    "print('The number of dimensions for a: ', a.ndim)"
   ]
  },
  {
   "cell_type": "code",
   "execution_count": 110,
   "metadata": {},
   "outputs": [
    {
     "name": "stdout",
     "output_type": "stream",
     "text": [
      "The shape of a:  (4,)\n"
     ]
    }
   ],
   "source": [
    "print('The shape of a: ', a.shape)"
   ]
  },
  {
   "cell_type": "code",
   "execution_count": 111,
   "metadata": {},
   "outputs": [
    {
     "name": "stdout",
     "output_type": "stream",
     "text": [
      "The type of a:  int64\n"
     ]
    }
   ],
   "source": [
    "print('The type of a: ', a.dtype)"
   ]
  },
  {
   "cell_type": "markdown",
   "metadata": {},
   "source": [
    "A two-dimension array can be created by providing two lists within brackets to the numpy array function."
   ]
  },
  {
   "cell_type": "code",
   "execution_count": 112,
   "metadata": {},
   "outputs": [
    {
     "name": "stdout",
     "output_type": "stream",
     "text": [
      "The array is: \n",
      "[[ 1  3  5  7]\n",
      " [ 9 12 14 32]]\n",
      "The type of the array is:  <class 'numpy.ndarray'>\n",
      "The dimension of the array is:  2\n",
      "The shape of the array is:  (2, 4)\n"
     ]
    }
   ],
   "source": [
    "#create a new list\n",
    "lst1 = [1, 3, 5, 7]\n",
    "lst2 = [9, 12, 14, 32]\n",
    "\n",
    "#convert the list into a new array\n",
    "a = np.array([lst1, lst2])\n",
    "\n",
    "#print some information about the new array\n",
    "print('The array is: ')\n",
    "print(a)\n",
    "print('The type of the array is: ', type(a))\n",
    "print('The dimension of the array is: ', a.ndim)\n",
    "print('The shape of the array is: ', a.shape)"
   ]
  },
  {
   "cell_type": "markdown",
   "metadata": {},
   "source": [
    "We could also skip the step of creating two lists and just put them right into the np.array function as follows."
   ]
  },
  {
   "cell_type": "code",
   "execution_count": 113,
   "metadata": {},
   "outputs": [
    {
     "data": {
      "text/plain": [
       "array([[ 1,  3,  5,  7],\n",
       "       [ 9, 12, 14, 32]])"
      ]
     },
     "execution_count": 113,
     "metadata": {},
     "output_type": "execute_result"
    }
   ],
   "source": [
    "np.array([[1, 3, 5, 7],[9, 12, 14, 32]])"
   ]
  },
  {
   "cell_type": "markdown",
   "metadata": {},
   "source": [
    "## Array Generating Functions\n",
    "\n",
    "There are many different functions for creating numpy arrays.  They are described [here](http://docs.scipy.org/doc/numpy/reference/routines.array-creation.html).  \n",
    "\n",
    "Here are a few common array generating functions with links to their descriptions:\n",
    "\n",
    "* [empty](http://wiki.scipy.org/Numpy_Example_List#empty)\n",
    "* [zeros](http://wiki.scipy.org/Numpy_Example_List#zeros)\n",
    "* [ones](http://wiki.scipy.org/Numpy_Example_List#ones)\n",
    "* [arange](http://wiki.scipy.org/Numpy_Example_List#arange)\n",
    "* [linspace](http://wiki.scipy.org/Numpy_Example_List#linspace)\n",
    "\n",
    "empty, zeros, and ones will all create a new array, and they all have the same syntax.  The only difference is the value that will be assigned to all of the array elements upon initialization.  The syntax for creating an empty array is:\n",
    "\n",
    "    a = np.empty( (shape), dtype )\n"
   ]
  },
  {
   "cell_type": "code",
   "execution_count": 114,
   "metadata": {},
   "outputs": [
    {
     "name": "stdout",
     "output_type": "stream",
     "text": [
      "[[1 3]\n",
      " [5 7]]\n"
     ]
    }
   ],
   "source": [
    "# Create an empty array\n",
    "print(np.empty((2,2), dtype=int))"
   ]
  },
  {
   "cell_type": "markdown",
   "metadata": {},
   "source": [
    "You are probably asking, what is this junk?  When you use `np.empty`, the only guarantee is that none of the values will be initialized.  You'll get whatever garbage was in that memory address.  You will only want to use `np.empty` if you know that you will be filling the array with meaningful values.\n",
    "\n",
    "The `dtype` is the type of array to create.  Some common examples are int (INTEGER), float (a floating point, or REAL for you FORTRAN people).  Numpy also has some of its own, like np.int, np.float, np.float32, np.float64, etc.\n",
    "\n",
    "Here is an empty float array."
   ]
  },
  {
   "cell_type": "code",
   "execution_count": 115,
   "metadata": {},
   "outputs": [
    {
     "name": "stdout",
     "output_type": "stream",
     "text": [
      "[[0. 0. 0.]\n",
      " [0. 0. 0.]\n",
      " [0. 0. 0.]]\n"
     ]
    }
   ],
   "source": [
    "a = np.empty((3,3), np.float32)\n",
    "print(a)"
   ]
  },
  {
   "cell_type": "markdown",
   "metadata": {},
   "source": [
    "As you might expect, `np.zeros` and `np.ones` make arrays with values initialized one zero and one, respectively."
   ]
  },
  {
   "cell_type": "code",
   "execution_count": 116,
   "metadata": {},
   "outputs": [
    {
     "name": "stdout",
     "output_type": "stream",
     "text": [
      "[[[1 1 1]\n",
      "  [1 1 1]\n",
      "  [1 1 1]]\n",
      "\n",
      " [[1 1 1]\n",
      "  [1 1 1]\n",
      "  [1 1 1]]\n",
      "\n",
      " [[1 1 1]\n",
      "  [1 1 1]\n",
      "  [1 1 1]]]\n",
      "[[[0. 0.]\n",
      "  [0. 0.]]\n",
      "\n",
      " [[0. 0.]\n",
      "  [0. 0.]]]\n"
     ]
    }
   ],
   "source": [
    "print(np.ones((3,3,3), int))\n",
    "print(np.zeros((2,2,2), float))"
   ]
  },
  {
   "cell_type": "markdown",
   "metadata": {},
   "source": [
    "## Input and Output\n",
    "\n",
    "Numpy has a great set of tools for saving arrays to files and reading arrays from files.  Details on these tools are [here](http://docs.scipy.org/doc/numpy/reference/routines.io.html).\n",
    "\n",
    "The following are the common ones:\n",
    "\n",
    "* [loadtxt](http://docs.scipy.org/doc/numpy/reference/generated/numpy.loadtxt.html#numpy.loadtxt)\n",
    "* [savetxt](http://docs.scipy.org/doc/numpy/reference/generated/numpy.savetxt.html#numpy.savetxt)\n",
    "\n",
    "We will now test these functions using data in the `datapath/04_numpy` directory.  In this folder, there is a file called `mt_st_helens_before.dat`.  This file is a simple text array with a grid of elevations for Mt. St Helens prior to the 1980 eruption.  We can read this array using the `loadtxt` function as follows."
   ]
  },
  {
   "cell_type": "code",
   "execution_count": 117,
   "metadata": {},
   "outputs": [
    {
     "name": "stdout",
     "output_type": "stream",
     "text": [
      "(466, 327) float32\n"
     ]
    }
   ],
   "source": [
    "before = np.loadtxt('data/mt_st_helens_before.dat', dtype=np.float32)\n",
    "print(before.shape, before.dtype)\n",
    "filename = ''  #this is to prevent you from accidently writing over this file later"
   ]
  },
  {
   "cell_type": "markdown",
   "metadata": {},
   "source": [
    "We can very quickly plot a two-dimensional numpy array using the imshow function, which is part of matplotlib.  Matplotlib will be covered in a subsequent notebook."
   ]
  },
  {
   "cell_type": "code",
   "execution_count": 118,
   "metadata": {},
   "outputs": [
    {
     "data": {
      "image/png": "[encoded data removed]",
      "text/plain": [
       "<Figure size 640x480 with 2 Axes>"
      ]
     },
     "metadata": {},
     "output_type": "display_data"
    }
   ],
   "source": [
    "plt.imshow(before, interpolation='nearest')\n",
    "cb = plt.colorbar()"
   ]
  },
  {
   "cell_type": "markdown",
   "metadata": {},
   "source": [
    "## Testing your Skills\n",
    "\n",
    "1. Write the Mt. St. Helens array (before) to a new file called `mynewarray.dat` in the same folder as `mt_st_helens_before.dat`.\n",
    "2. Take a look at `bottom_commented.dat` in a text editor.  What about this file?  Can you read this file using loadtxt without having to manually change the file?  Hint: look at the loadtxt arguments by either googling it or doing `help(np.loadtxt)` or `?np.loadtxt`"
   ]
  },
  {
   "cell_type": "code",
   "execution_count": 119,
   "metadata": {},
   "outputs": [],
   "source": [
    "#Skill Test 1\n"
   ]
  },
  {
   "cell_type": "code",
   "execution_count": 120,
   "metadata": {},
   "outputs": [],
   "source": [
    "#Skill Test 2\n"
   ]
  },
  {
   "cell_type": "markdown",
   "metadata": {},
   "source": [
    "## Array Operations\n",
    "\n",
    "As you might expect, it is very easy to perform arithmetic operations on arrays.  So we can easily add and subtract arrays and use them in numpy functions.  The following is a couple examples of using simple arithmetic array operations as when as an example for plotting a sin function."
   ]
  },
  {
   "cell_type": "code",
   "execution_count": 121,
   "metadata": {},
   "outputs": [
    {
     "name": "stdout",
     "output_type": "stream",
     "text": [
      "[[2. 2. 2. ... 2. 2. 2.]\n",
      " [2. 2. 2. ... 2. 2. 2.]\n",
      " [2. 2. 2. ... 2. 2. 2.]\n",
      " ...\n",
      " [2. 2. 2. ... 2. 2. 2.]\n",
      " [2. 2. 2. ... 2. 2. 2.]\n",
      " [2. 2. 2. ... 2. 2. 2.]]\n",
      "[[0.08846075 0.08846075 0.08846075 ... 0.08846075 0.08846075 0.08846075]\n",
      " [0.08846075 0.08846075 0.08846075 ... 0.08846075 0.08846075 0.08846075]\n",
      " [0.08846075 0.08846075 0.08846075 ... 0.08846075 0.08846075 0.08846075]\n",
      " ...\n",
      " [0.08846075 0.08846075 0.08846075 ... 0.08846075 0.08846075 0.08846075]\n",
      " [0.08846075 0.08846075 0.08846075 ... 0.08846075 0.08846075 0.08846075]\n",
      " [0.08846075 0.08846075 0.08846075 ... 0.08846075 0.08846075 0.08846075]]\n"
     ]
    }
   ],
   "source": [
    "#add\n",
    "a = np.ones((100, 100))\n",
    "a = a + 1\n",
    "print(a)\n",
    "\n",
    "#powers, division\n",
    "a = a ** 2.73 / 75\n",
    "print(a)"
   ]
  },
  {
   "cell_type": "markdown",
   "metadata": {},
   "source": [
    "There is so much you can do with numpy arrays and the available functions.  For a list of the mathematical functions look [here](http://docs.scipy.org/doc/numpy/reference/routines.math.html)."
   ]
  },
  {
   "cell_type": "code",
   "execution_count": 122,
   "metadata": {},
   "outputs": [
    {
     "name": "stdout",
     "output_type": "stream",
     "text": [
      "[0.         0.12822827 0.25645654 0.38468481 0.51291309 0.64114136\n",
      " 0.76936963 0.8975979  1.02582617 1.15405444 1.28228272 1.41051099\n",
      " 1.53873926 1.66696753 1.7951958  1.92342407 2.05165235 2.17988062\n",
      " 2.30810889 2.43633716 2.56456543 2.6927937  2.82102197 2.94925025\n",
      " 3.07747852 3.20570679 3.33393506 3.46216333 3.5903916  3.71861988\n",
      " 3.84684815 3.97507642 4.10330469 4.23153296 4.35976123 4.48798951\n",
      " 4.61621778 4.74444605 4.87267432 5.00090259 5.12913086 5.25735913\n",
      " 5.38558741 5.51381568 5.64204395 5.77027222 5.89850049 6.02672876\n",
      " 6.15495704 6.28318531] [ 0.00000000e+00  1.27877162e-01  2.53654584e-01  3.75267005e-01\n",
      "  4.90717552e-01  5.98110530e-01  6.95682551e-01  7.81831482e-01\n",
      "  8.55142763e-01  9.14412623e-01  9.58667853e-01  9.87181783e-01\n",
      "  9.99486216e-01  9.95379113e-01  9.74927912e-01  9.38468422e-01\n",
      "  8.86599306e-01  8.20172255e-01  7.40277997e-01  6.48228395e-01\n",
      "  5.45534901e-01  4.33883739e-01  3.15108218e-01  1.91158629e-01\n",
      "  6.40702200e-02 -6.40702200e-02 -1.91158629e-01 -3.15108218e-01\n",
      " -4.33883739e-01 -5.45534901e-01 -6.48228395e-01 -7.40277997e-01\n",
      " -8.20172255e-01 -8.86599306e-01 -9.38468422e-01 -9.74927912e-01\n",
      " -9.95379113e-01 -9.99486216e-01 -9.87181783e-01 -9.58667853e-01\n",
      " -9.14412623e-01 -8.55142763e-01 -7.81831482e-01 -6.95682551e-01\n",
      " -5.98110530e-01 -4.90717552e-01 -3.75267005e-01 -2.53654584e-01\n",
      " -1.27877162e-01 -2.44929360e-16]\n"
     ]
    }
   ],
   "source": [
    "#or how about a sin function\n",
    "x = np.linspace(0, 2*np.pi)\n",
    "y = np.sin(x)\n",
    "print(x, y)"
   ]
  },
  {
   "cell_type": "code",
   "execution_count": 123,
   "metadata": {},
   "outputs": [
    {
     "data": {
      "text/plain": [
       "[<matplotlib.lines.Line2D at 0x11875ea50>]"
      ]
     },
     "execution_count": 123,
     "metadata": {},
     "output_type": "execute_result"
    },
    {
     "data": {
      "image/png": "[encoded data removed]",
      "text/plain": [
       "<Figure size 640x480 with 1 Axes>"
      ]
     },
     "metadata": {},
     "output_type": "display_data"
    }
   ],
   "source": [
    "# An x, y plot can be quickly generated using plt.plot()\n",
    "plt.plot(x, y)"
   ]
  },
  {
   "cell_type": "markdown",
   "metadata": {},
   "source": [
    "## Accessing Array Elements\n",
    "\n",
    "Okay, now for the good stuff...\n",
    "\n",
    "Numpy arrays are zero based, which means the first position is referenced as 0.  If you are a FORTRAN person or a MATLAB person, THIS WILL CAUSE YOU GREAT GRIEF!  You will be burned by the fact that the first element in an array is not `a[1]`.  It is `a[0]`.  You will accept it, eventually, and then you will find zero-based arrays to be more intuitive, maybe.\n",
    "\n",
    "Let's do some array slicing to see how all of this works."
   ]
  },
  {
   "cell_type": "code",
   "execution_count": 124,
   "metadata": {},
   "outputs": [
    {
     "name": "stdout",
     "output_type": "stream",
     "text": [
      "[50.         51.11111111 52.22222222 53.33333333 54.44444444 55.55555556\n",
      " 56.66666667 57.77777778 58.88888889 60.        ]\n"
     ]
    }
   ],
   "source": [
    "#create an array with 10 equally spaced values\n",
    "a = np.linspace(50, 60, 10)\n",
    "print(a)"
   ]
  },
  {
   "cell_type": "code",
   "execution_count": 125,
   "metadata": {},
   "outputs": [
    {
     "name": "stdout",
     "output_type": "stream",
     "text": [
      "The first value is:  50.0\n",
      "The last value is:  56.666666666666664\n"
     ]
    }
   ],
   "source": [
    "#we can access the first value as\n",
    "print('The first value is: ', a[0])\n",
    "\n",
    "#the last value is\n",
    "print('The last value is: ', a[6])"
   ]
  },
  {
   "cell_type": "markdown",
   "metadata": {},
   "source": [
    "Okay, this is all good. Now there is another cool part of numpy arrays, and that is that we can use negative index numbers.  So instead of a[6], we could also say a[-1]."
   ]
  },
  {
   "cell_type": "code",
   "execution_count": 126,
   "metadata": {},
   "outputs": [
    {
     "name": "stdout",
     "output_type": "stream",
     "text": [
      "The last value is:  60.0\n",
      "The second to last value is:  58.888888888888886\n"
     ]
    }
   ],
   "source": [
    "print('The last value is: ', a[-1])\n",
    "\n",
    "#hmm.  Does that mean?  yup.\n",
    "print('The second to last value is: ', a[-2])"
   ]
  },
  {
   "cell_type": "markdown",
   "metadata": {},
   "source": [
    "### Accessing Parts of an Array\n",
    "\n",
    "So how do we access parts of an array?  The formal syntax for a one dimensional array is:\n",
    "\n",
    "    array[idxstart : idxstop : idxstride]\n",
    "    \n",
    "where idxstart is the zero-based array position to start; idxstop is the zero-based index to go up to, BUT NOT INCLUDE, and idxstride is the number of values to skip.  The following are valid array slides:\n",
    "\n",
    "    a[:]    #all elements\n",
    "    a[0:-1] #all elements\n",
    "    a[2:10] #elements in the third position up to elements in the 10th position\n",
    "    a[::2]  #start in position 0 and include every other element\n",
    "    a[::-1] #start at the end and reverse the order\n",
    "\n",
    "The following are some examples.\n"
   ]
  },
  {
   "cell_type": "code",
   "execution_count": 127,
   "metadata": {},
   "outputs": [
    {
     "name": "stdout",
     "output_type": "stream",
     "text": [
      "a= [ 0  1  2  3  4  5  6  7  8  9 10 11 12 13 14 15 16 17 18 19 20 21 22 23\n",
      " 24 25 26 27 28 29 30 31 32 33 34 35 36 37 38 39 40 41 42 43 44 45 46 47\n",
      " 48 49 50 51 52 53 54 55 56 57 58 59 60 61 62 63 64 65 66 67 68 69 70 71\n",
      " 72 73 74 75 76 77 78 79 80 81 82 83 84 85 86 87 88 89 90 91 92 93 94 95\n",
      " 96 97 98 99]\n",
      "a[10]:  [0 1 2 3 4 5 6 7 8 9]\n",
      "a[90:] [90 91 92 93 94 95 96 97 98 99]\n"
     ]
    }
   ],
   "source": [
    "#make a fresh array with 100 values\n",
    "a = np.arange(100)\n",
    "print('a=', a)\n",
    "\n",
    "#print values from the beginning up to but not including the 10th value\n",
    "print('a[10]: ', a[:10])\n",
    "\n",
    "#or print the values from postion 90 to the end\n",
    "print('a[90:]', a[90:])"
   ]
  },
  {
   "cell_type": "markdown",
   "metadata": {},
   "source": [
    "This is all good, but what if want to skip over values.  Then we can also enter a stride. "
   ]
  },
  {
   "cell_type": "code",
   "execution_count": 128,
   "metadata": {},
   "outputs": [
    {
     "name": "stdout",
     "output_type": "stream",
     "text": [
      "[ 0  2  4  6  8 10 12 14 16 18 20 22 24 26 28 30 32 34 36 38 40 42 44 46\n",
      " 48 50 52 54 56 58 60 62 64 66 68 70 72 74 76 78 80 82 84 86 88 90 92 94\n",
      " 96 98]\n"
     ]
    }
   ],
   "source": [
    "# Print every second value\n",
    "print(a[::2])"
   ]
  },
  {
   "cell_type": "code",
   "execution_count": 129,
   "metadata": {},
   "outputs": [
    {
     "name": "stdout",
     "output_type": "stream",
     "text": [
      "[50 55 60 65 70 75 80 85 90 95]\n"
     ]
    }
   ],
   "source": [
    "# Print every 5th value from 50 to 100\n",
    "print(a[50::5])"
   ]
  },
  {
   "cell_type": "markdown",
   "metadata": {},
   "source": [
    "**Note** the slice notation `50::5` above is actually shorthand for the built-in slice object"
   ]
  },
  {
   "cell_type": "code",
   "execution_count": 130,
   "metadata": {},
   "outputs": [
    {
     "data": {
      "text/plain": [
       "array([50, 55, 60, 65, 70, 75, 80, 85, 90, 95])"
      ]
     },
     "execution_count": 130,
     "metadata": {},
     "output_type": "execute_result"
    }
   ],
   "source": [
    "a[slice(50, None, 5)]"
   ]
  },
  {
   "cell_type": "markdown",
   "metadata": {},
   "source": [
    "And this all works for multi-dimensional arrays as well.  So we can access parts of a multi-dimensional array."
   ]
  },
  {
   "cell_type": "code",
   "execution_count": 131,
   "metadata": {},
   "outputs": [
    {
     "name": "stdout",
     "output_type": "stream",
     "text": [
      "[[1 1 1 1 1 1 1 1 1 1]\n",
      " [1 1 1 1 1 1 1 1 1 1]\n",
      " [1 1 1 1 1 1 1 1 1 1]\n",
      " [1 1 1 1 1 1 1 1 1 1]\n",
      " [1 1 1 1 1 1 1 1 1 1]\n",
      " [1 1 1 1 1 1 1 1 1 1]\n",
      " [1 1 1 1 1 1 1 1 1 1]\n",
      " [1 1 1 1 1 1 1 1 1 1]\n",
      " [1 1 1 1 1 1 1 1 1 1]\n",
      " [1 1 1 1 1 1 1 1 1 1]]\n"
     ]
    }
   ],
   "source": [
    "a = np.ones((10, 10), dtype=int)\n",
    "print(a)"
   ]
  },
  {
   "cell_type": "code",
   "execution_count": 132,
   "metadata": {},
   "outputs": [
    {
     "name": "stdout",
     "output_type": "stream",
     "text": [
      "[[2 2 2 2 2 1 1 1 1 1]\n",
      " [2 2 2 2 2 1 1 1 1 1]\n",
      " [2 2 2 2 2 1 1 1 1 1]\n",
      " [2 2 2 2 2 1 1 1 1 1]\n",
      " [2 2 2 2 2 1 1 1 1 1]\n",
      " [1 1 1 1 1 1 1 1 1 1]\n",
      " [1 1 1 1 1 1 1 1 1 1]\n",
      " [1 1 1 1 1 1 1 1 1 1]\n",
      " [1 1 1 1 1 1 1 1 1 1]\n",
      " [1 1 1 1 1 1 1 1 1 1]]\n"
     ]
    }
   ],
   "source": [
    "#now lets set the upper left quadrant of a to 2\n",
    "a[:5, :5] = 2\n",
    "print(a)"
   ]
  },
  {
   "cell_type": "markdown",
   "metadata": {},
   "source": [
    "### Accessing Array Elements Using an Index List or Array\n",
    "\n",
    "If we know the array indices that we want to access, we can specify them in a list and pass that list to the array through the brackets."
   ]
  },
  {
   "cell_type": "code",
   "execution_count": 133,
   "metadata": {},
   "outputs": [
    {
     "name": "stdout",
     "output_type": "stream",
     "text": [
      "[0.89260476 0.28142777 0.99767552 0.67938943 0.9592067  0.01003127\n",
      " 0.4697843  0.05850454 0.85517045 0.0575799 ]\n",
      "values in 2, 3, and 7 positions [0.99767552 0.67938943 0.05850454]\n"
     ]
    }
   ],
   "source": [
    "a = np.random.random(10)\n",
    "print(a)\n",
    "print('values in 2, 3, and 7 positions', a[[2, 3, 7]])"
   ]
  },
  {
   "cell_type": "code",
   "execution_count": 134,
   "metadata": {},
   "outputs": [
    {
     "name": "stdout",
     "output_type": "stream",
     "text": [
      "[[1 0 0 0 0 0 0 0 0 0]\n",
      " [0 1 0 0 0 0 0 0 0 0]\n",
      " [0 0 1 0 0 0 0 0 0 0]\n",
      " [0 0 0 1 0 0 0 0 0 0]\n",
      " [0 0 0 0 1 0 0 0 0 0]\n",
      " [0 0 0 0 0 1 0 0 0 0]\n",
      " [0 0 0 0 0 0 1 0 0 0]\n",
      " [0 0 0 0 0 0 0 1 0 0]\n",
      " [0 0 0 0 0 0 0 0 1 0]\n",
      " [0 0 0 0 0 0 0 0 0 1]]\n"
     ]
    }
   ],
   "source": [
    "#this also works for multi dimensions\n",
    "icoord = np.arange(10)\n",
    "jcoord = icoord\n",
    "a = np.zeros((10, 10), dtype='int')\n",
    "a[icoord, jcoord] = 1\n",
    "print(a)  #hey, its the identity matrix!\n",
    "\n",
    "#what do you think?  Do you think numpy has an identity function?"
   ]
  },
  {
   "cell_type": "markdown",
   "metadata": {},
   "source": [
    "### Boolean indexing\n",
    "conditional statements can also be used to slice arrays\n",
    "what if we want to identify nodata in the Mt. St. Helens array, which have a value of 0, and convert them to nodata?"
   ]
  },
  {
   "cell_type": "code",
   "execution_count": 135,
   "metadata": {},
   "outputs": [
    {
     "data": {
      "text/plain": [
       "array([[  0.,   0.,   0., ...,   0.,   0.,   0.],\n",
       "       [  0.,   0.,   0., ...,   0.,   0.,   0.],\n",
       "       [867., 872., 881., ...,   0.,   0.,   0.],\n",
       "       ...,\n",
       "       [  0.,   0.,   0., ...,   0.,   0.,   0.],\n",
       "       [  0.,   0.,   0., ...,   0.,   0.,   0.],\n",
       "       [  0.,   0.,   0., ...,   0.,   0.,   0.]],\n",
       "      shape=(466, 327), dtype=float32)"
      ]
     },
     "execution_count": 135,
     "metadata": {},
     "output_type": "execute_result"
    }
   ],
   "source": [
    "before"
   ]
  },
  {
   "cell_type": "code",
   "execution_count": 136,
   "metadata": {},
   "outputs": [],
   "source": [
    "before[before == 0] = np.nan"
   ]
  },
  {
   "cell_type": "code",
   "execution_count": 137,
   "metadata": {},
   "outputs": [
    {
     "data": {
      "text/plain": [
       "array([[ nan,  nan,  nan, ...,  nan,  nan,  nan],\n",
       "       [ nan,  nan,  nan, ...,  nan,  nan,  nan],\n",
       "       [867., 872., 881., ...,  nan,  nan,  nan],\n",
       "       ...,\n",
       "       [ nan,  nan,  nan, ...,  nan,  nan,  nan],\n",
       "       [ nan,  nan,  nan, ...,  nan,  nan,  nan],\n",
       "       [ nan,  nan,  nan, ...,  nan,  nan,  nan]],\n",
       "      shape=(466, 327), dtype=float32)"
      ]
     },
     "execution_count": 137,
     "metadata": {},
     "output_type": "execute_result"
    }
   ],
   "source": [
    "before"
   ]
  },
  {
   "cell_type": "markdown",
   "metadata": {},
   "source": [
    "or, what if we want to identify cells with elevations above 2000 meters?\n",
    "`before > 2000` returns `True` for each position in the array that meets this condition (yellow in plot below), `False` everywhere else (purple)"
   ]
  },
  {
   "cell_type": "code",
   "execution_count": 138,
   "metadata": {},
   "outputs": [
    {
     "data": {
      "text/plain": [
       "<matplotlib.image.AxesImage at 0x118d2c810>"
      ]
     },
     "execution_count": 138,
     "metadata": {},
     "output_type": "execute_result"
    },
    {
     "data": {
      "image/png": "[encoded data removed]",
      "text/plain": [
       "<Figure size 640x480 with 1 Axes>"
      ]
     },
     "metadata": {},
     "output_type": "display_data"
    }
   ],
   "source": [
    "plt.imshow(before > 2000)"
   ]
  },
  {
   "cell_type": "markdown",
   "metadata": {},
   "source": [
    "### Views vs. Copies\n",
    "**Slice indexing returns a view** of the original array that points to the same location in memory. Meaning operations on the slice affect the original array."
   ]
  },
  {
   "cell_type": "code",
   "execution_count": 139,
   "metadata": {},
   "outputs": [
    {
     "data": {
      "text/plain": [
       "array([[1, 0, 0, 0, 0, 0, 0, 0, 0, 0],\n",
       "       [0, 1, 0, 0, 0, 0, 0, 0, 0, 0],\n",
       "       [0, 0, 1, 0, 0, 0, 0, 0, 0, 0],\n",
       "       [0, 0, 0, 1, 0, 0, 0, 0, 0, 0],\n",
       "       [0, 0, 0, 0, 1, 0, 0, 0, 0, 0],\n",
       "       [0, 0, 0, 0, 0, 1, 0, 0, 0, 0],\n",
       "       [0, 0, 0, 0, 0, 0, 1, 0, 0, 0],\n",
       "       [0, 0, 0, 0, 0, 0, 0, 1, 0, 0],\n",
       "       [0, 0, 0, 0, 0, 0, 0, 0, 1, 0],\n",
       "       [0, 0, 0, 0, 0, 0, 0, 0, 0, 1]])"
      ]
     },
     "execution_count": 139,
     "metadata": {},
     "output_type": "execute_result"
    }
   ],
   "source": [
    "a"
   ]
  },
  {
   "cell_type": "code",
   "execution_count": 140,
   "metadata": {},
   "outputs": [],
   "source": [
    "b = a[:3, :3]\n",
    "b[1, 1] = 10"
   ]
  },
  {
   "cell_type": "code",
   "execution_count": 141,
   "metadata": {},
   "outputs": [
    {
     "data": {
      "text/plain": [
       "array([[ 1,  0,  0,  0,  0,  0,  0,  0,  0,  0],\n",
       "       [ 0, 10,  0,  0,  0,  0,  0,  0,  0,  0],\n",
       "       [ 0,  0,  1,  0,  0,  0,  0,  0,  0,  0],\n",
       "       [ 0,  0,  0,  1,  0,  0,  0,  0,  0,  0],\n",
       "       [ 0,  0,  0,  0,  1,  0,  0,  0,  0,  0],\n",
       "       [ 0,  0,  0,  0,  0,  1,  0,  0,  0,  0],\n",
       "       [ 0,  0,  0,  0,  0,  0,  1,  0,  0,  0],\n",
       "       [ 0,  0,  0,  0,  0,  0,  0,  1,  0,  0],\n",
       "       [ 0,  0,  0,  0,  0,  0,  0,  0,  1,  0],\n",
       "       [ 0,  0,  0,  0,  0,  0,  0,  0,  0,  1]])"
      ]
     },
     "execution_count": 141,
     "metadata": {},
     "output_type": "execute_result"
    }
   ],
   "source": [
    "a"
   ]
  },
  {
   "cell_type": "markdown",
   "metadata": {},
   "source": [
    "**Array and Boolean indexing returns a copy** of the original array (with a different memory address). Operations on the copy do not affect the original array."
   ]
  },
  {
   "cell_type": "code",
   "execution_count": 142,
   "metadata": {},
   "outputs": [
    {
     "data": {
      "text/plain": [
       "array([ 1, 10,  1])"
      ]
     },
     "execution_count": 142,
     "metadata": {},
     "output_type": "execute_result"
    }
   ],
   "source": [
    "c = a[range(3), range(3)]\n",
    "c"
   ]
  },
  {
   "cell_type": "code",
   "execution_count": 143,
   "metadata": {},
   "outputs": [
    {
     "data": {
      "text/plain": [
       "array([ 1, 20,  1])"
      ]
     },
     "execution_count": 143,
     "metadata": {},
     "output_type": "execute_result"
    }
   ],
   "source": [
    "c[1] = 20\n",
    "c"
   ]
  },
  {
   "cell_type": "code",
   "execution_count": 144,
   "metadata": {},
   "outputs": [
    {
     "data": {
      "text/plain": [
       "array([[ 1,  0,  0,  0,  0,  0,  0,  0,  0,  0],\n",
       "       [ 0, 10,  0,  0,  0,  0,  0,  0,  0,  0],\n",
       "       [ 0,  0,  1,  0,  0,  0,  0,  0,  0,  0],\n",
       "       [ 0,  0,  0,  1,  0,  0,  0,  0,  0,  0],\n",
       "       [ 0,  0,  0,  0,  1,  0,  0,  0,  0,  0],\n",
       "       [ 0,  0,  0,  0,  0,  1,  0,  0,  0,  0],\n",
       "       [ 0,  0,  0,  0,  0,  0,  1,  0,  0,  0],\n",
       "       [ 0,  0,  0,  0,  0,  0,  0,  1,  0,  0],\n",
       "       [ 0,  0,  0,  0,  0,  0,  0,  0,  1,  0],\n",
       "       [ 0,  0,  0,  0,  0,  0,  0,  0,  0,  1]])"
      ]
     },
     "execution_count": 144,
     "metadata": {},
     "output_type": "execute_result"
    }
   ],
   "source": [
    "a"
   ]
  },
  {
   "cell_type": "markdown",
   "metadata": {},
   "source": [
    "## Reshaping and Stacking Arrays\n",
    "\n",
    "Reshaping of arrays is easy to do with the np.reshape function.  The function works by taking an array and desired shape, and then returning a new array with that shape.  Note, however, that the requested shape must be consistent with the array that is passed in.  The syntax is:\n",
    "\n",
    "    np.reshape(a, (newshape))\n",
    "\n",
    "Arrays also have a reshape method, which means you can use the following form:\n",
    "\n",
    "    a.reshape( (newshape) )\n",
    "    \n",
    "Example follows."
   ]
  },
  {
   "cell_type": "code",
   "execution_count": 145,
   "metadata": {},
   "outputs": [
    {
     "name": "stdout",
     "output_type": "stream",
     "text": [
      "a:  [ 0  1  2  3  4  5  6  7  8  9 10 11 12 13 14 15 16 17 18 19 20 21 22 23\n",
      " 24 25 26 27 28 29 30 31 32 33 34 35 36 37 38 39 40 41 42 43 44 45 46 47\n",
      " 48 49 50 51 52 53 54 55 56 57 58 59 60 61 62 63 64 65 66 67 68 69 70 71\n",
      " 72 73 74 75 76 77 78 79 80 81 82 83 84 85 86 87 88 89 90 91 92 93 94 95\n",
      " 96 97 98 99]\n",
      "b:  [[ 0  1  2  3  4  5  6  7  8  9]\n",
      " [10 11 12 13 14 15 16 17 18 19]\n",
      " [20 21 22 23 24 25 26 27 28 29]\n",
      " [30 31 32 33 34 35 36 37 38 39]\n",
      " [40 41 42 43 44 45 46 47 48 49]\n",
      " [50 51 52 53 54 55 56 57 58 59]\n",
      " [60 61 62 63 64 65 66 67 68 69]\n",
      " [70 71 72 73 74 75 76 77 78 79]\n",
      " [80 81 82 83 84 85 86 87 88 89]\n",
      " [90 91 92 93 94 95 96 97 98 99]]\n"
     ]
    }
   ],
   "source": [
    "a = np.arange(100)\n",
    "print('a: ', a)\n",
    "b = np.reshape(a, (10,10))\n",
    "print('b: ', b)"
   ]
  },
  {
   "cell_type": "markdown",
   "metadata": {},
   "source": [
    "## hstack and vstack\n",
    "\n",
    "hstack and vstack can be used to add columns to an array or rows to an array."
   ]
  },
  {
   "cell_type": "code",
   "execution_count": 146,
   "metadata": {},
   "outputs": [
    {
     "name": "stdout",
     "output_type": "stream",
     "text": [
      "[[0. 0. 0.]\n",
      " [0. 0. 0.]\n",
      " [0. 0. 0.]]\n",
      "[[0. 0. 0.]\n",
      " [0. 0. 0.]\n",
      " [0. 0. 0.]\n",
      " [2. 2. 2.]]\n",
      "The shape of b is  (4, 3)\n"
     ]
    }
   ],
   "source": [
    "#vstack example -- add a row to an array\n",
    "a = np.zeros((3, 3), dtype=float)\n",
    "print(a)\n",
    "b = np.vstack((a, np.array([2, 2, 2])))\n",
    "print(b)\n",
    "print('The shape of b is ', b.shape)"
   ]
  },
  {
   "cell_type": "code",
   "execution_count": 147,
   "metadata": {},
   "outputs": [
    {
     "name": "stdout",
     "output_type": "stream",
     "text": [
      "[[0. 0. 0.]\n",
      " [0. 0. 0.]\n",
      " [0. 0. 0.]]\n",
      "[[0. 0. 0. 2.]\n",
      " [0. 0. 0. 2.]\n",
      " [0. 0. 0. 2.]]\n",
      "The shape of b is  (3, 4)\n"
     ]
    }
   ],
   "source": [
    "#hstack example -- add a column to an array\n",
    "a = np.zeros((3, 3), dtype=float)\n",
    "print(a)\n",
    "b = np.hstack((a, np.array([[2], [2], [2]])))\n",
    "print(b)\n",
    "print('The shape of b is ', b.shape)"
   ]
  },
  {
   "cell_type": "markdown",
   "metadata": {},
   "source": [
    "## Flattening arrays\n",
    "oftentimes we need to flatten a 2D array to one dimension\n",
    "the `ndarray.flat` attribute provides a means of iterating over a numpy array in one-dimension"
   ]
  },
  {
   "cell_type": "code",
   "execution_count": 148,
   "metadata": {},
   "outputs": [
    {
     "data": {
      "text/plain": [
       "[np.float64(0.0),\n",
       " np.float64(0.0),\n",
       " np.float64(0.0),\n",
       " np.float64(2.0),\n",
       " np.float64(0.0),\n",
       " np.float64(0.0),\n",
       " np.float64(0.0),\n",
       " np.float64(2.0),\n",
       " np.float64(0.0),\n",
       " np.float64(0.0),\n",
       " np.float64(0.0),\n",
       " np.float64(2.0)]"
      ]
     },
     "execution_count": 148,
     "metadata": {},
     "output_type": "execute_result"
    }
   ],
   "source": [
    "[value for value in b.flat]"
   ]
  },
  {
   "cell_type": "markdown",
   "metadata": {},
   "source": [
    "if we need a 1D copy returned instead, we can use the `ndarray.flatten` method"
   ]
  },
  {
   "cell_type": "code",
   "execution_count": 149,
   "metadata": {},
   "outputs": [
    {
     "data": {
      "text/plain": [
       "array([0., 0., 0., 2., 0., 0., 0., 2., 0., 0., 0., 2.])"
      ]
     },
     "execution_count": 149,
     "metadata": {},
     "output_type": "execute_result"
    }
   ],
   "source": [
    "b.flatten()"
   ]
  },
  {
   "cell_type": "markdown",
   "metadata": {},
   "source": [
    "`.ravel()` returns a view instead of a copy when possible"
   ]
  },
  {
   "cell_type": "code",
   "execution_count": 150,
   "metadata": {},
   "outputs": [
    {
     "data": {
      "text/plain": [
       "array([[0., 4., 0., 2.],\n",
       "       [0., 0., 0., 2.],\n",
       "       [0., 0., 0., 2.]])"
      ]
     },
     "execution_count": 150,
     "metadata": {},
     "output_type": "execute_result"
    }
   ],
   "source": [
    "c = b.ravel()\n",
    "c[1] = 4\n",
    "b"
   ]
  },
  {
   "cell_type": "code",
   "execution_count": 151,
   "metadata": {},
   "outputs": [
    {
     "data": {
      "text/plain": [
       "array([0., 4., 0., 2., 0., 0., 0., 2., 0., 0., 0., 2.])"
      ]
     },
     "execution_count": 151,
     "metadata": {},
     "output_type": "execute_result"
    }
   ],
   "source": [
    "c"
   ]
  },
  {
   "cell_type": "markdown",
   "metadata": {},
   "source": [
    "## Testing your Skills\n",
    "\n",
    "1. Can you create a two-dimensional checkerboard array of 1's and 0's?  Can you do it with a single line of python code?\n",
    "2. In an earlier exercise, you made x and y using the following lines of code.  Now use vstack to add another row to y that has the cosing of x.  Then plot them both on the same figure.\n",
    "\n",
    "    x = np.linspace(0, 2*np.pi)\n",
    "    \n",
    "    y = np.sin(x)"
   ]
  },
  {
   "cell_type": "markdown",
   "metadata": {},
   "source": [
    "##### one way to do it"
   ]
  },
  {
   "cell_type": "code",
   "execution_count": 152,
   "metadata": {},
   "outputs": [
    {
     "data": {
      "text/plain": [
       "<matplotlib.image.AxesImage at 0x118e4e090>"
      ]
     },
     "execution_count": 152,
     "metadata": {},
     "output_type": "execute_result"
    },
    {
     "data": {
      "image/png": "[encoded data removed]",
      "text/plain": [
       "<Figure size 640x480 with 1 Axes>"
      ]
     },
     "metadata": {},
     "output_type": "display_data"
    }
   ],
   "source": [
    "size = 6\n",
    "plt.imshow(np.array((([0, 1]*(size-2))[:-1], # first row\n",
    "                     ([0, 1]*(size-2))[1:]) *  # second row (staggered)\n",
    "                    (size-2))[:-1]) # repeat first and second row"
   ]
  },
  {
   "cell_type": "code",
   "execution_count": 153,
   "metadata": {},
   "outputs": [
    {
     "data": {
      "text/plain": [
       "array([[1., 0., 1., 0., 1., 0.],\n",
       "       [0., 0., 0., 0., 0., 0.],\n",
       "       [1., 0., 1., 0., 1., 0.],\n",
       "       [0., 0., 0., 0., 0., 0.],\n",
       "       [1., 0., 1., 0., 1., 0.],\n",
       "       [0., 0., 0., 0., 0., 0.]])"
      ]
     },
     "execution_count": 153,
     "metadata": {},
     "output_type": "execute_result"
    }
   ],
   "source": [
    "cboard = np.zeros((size, size))\n",
    "cboard[::2, ::2] = 1\n",
    "cboard"
   ]
  },
  {
   "cell_type": "code",
   "execution_count": 154,
   "metadata": {},
   "outputs": [],
   "source": [
    "#Skill Test 1 -- checkerboard"
   ]
  },
  {
   "cell_type": "code",
   "execution_count": 155,
   "metadata": {},
   "outputs": [],
   "source": [
    "#Skill Test 2 -- vstack\n",
    "x = np.linspace(0, 2*np.pi)\n",
    "y = np.sin(x)"
   ]
  },
  {
   "cell_type": "markdown",
   "metadata": {},
   "source": [
    "## Masking an Array\n",
    "\n",
    "Masking is the process of performing array operations on a specific set of cells, called a mask.  A mask is a logical array with the same shape as the array it is applied to.  Here is an example."
   ]
  },
  {
   "cell_type": "code",
   "execution_count": 156,
   "metadata": {},
   "outputs": [
    {
     "name": "stdout",
     "output_type": "stream",
     "text": [
      "a:\n",
      " [[ 0  1  2  3  4  5  6  7  8  9]\n",
      " [10 11 12 13 14 15 16 17 18 19]\n",
      " [20 21 22 23 24 25 26 27 28 29]\n",
      " [30 31 32 33 34 35 36 37 38 39]\n",
      " [40 41 42 43 44 45 46 47 48 49]\n",
      " [50 51 52 53 54 55 56 57 58 59]\n",
      " [60 61 62 63 64 65 66 67 68 69]\n",
      " [70 71 72 73 74 75 76 77 78 79]\n",
      " [80 81 82 83 84 85 86 87 88 89]\n",
      " [90 91 92 93 94 95 96 97 98 99]]\n"
     ]
    }
   ],
   "source": [
    "#create a 10 by 10 array\n",
    "a = np.arange(100).reshape((10,10))\n",
    "print('a:\\n', a)"
   ]
  },
  {
   "cell_type": "code",
   "execution_count": 157,
   "metadata": {},
   "outputs": [
    {
     "name": "stdout",
     "output_type": "stream",
     "text": [
      "mask array for a == 1:\n",
      " [[False  True False False False False False False False False]\n",
      " [False False False False False False False False False False]\n",
      " [False False False False False False False False False False]\n",
      " [False False False False False False False False False False]\n",
      " [False False False False False False False False False False]\n",
      " [False False False False False False False False False False]\n",
      " [False False False False False False False False False False]\n",
      " [False False False False False False False False False False]\n",
      " [False False False False False False False False False False]\n",
      " [False False False False False False False False False False]]\n"
     ]
    }
   ],
   "source": [
    "print('mask array for a == 1:\\n', a[:, :] == 1)"
   ]
  },
  {
   "cell_type": "code",
   "execution_count": 158,
   "metadata": {},
   "outputs": [
    {
     "name": "stdout",
     "output_type": "stream",
     "text": [
      "[[False  True False False False False False False False False]\n",
      " [False False False False False False False False False False]\n",
      " [False False False False False False False False False False]\n",
      " [False False False False False False False False False False]\n",
      " [False False False False False False False False False False]\n",
      " [False False False False False False False False False False]\n",
      " [False False False False False False False False False False]\n",
      " [False False False False False False False False False False]\n",
      " [False False False False False False False False False False]\n",
      " [False False False False False False False False False False]]\n",
      "[[  0 100   2   3   4   5   6   7   8   9]\n",
      " [ 10  11  12  13  14  15  16  17  18  19]\n",
      " [ 20  21  22  23  24  25  26  27  28  29]\n",
      " [ 30  31  32  33  34  35  36  37  38  39]\n",
      " [ 40  41  42  43  44  45  46  47  48  49]\n",
      " [ 50  51  52  53  54  55  56  57  58  59]\n",
      " [ 60  61  62  63  64  65  66  67  68  69]\n",
      " [ 70  71  72  73  74  75  76  77  78  79]\n",
      " [ 80  81  82  83  84  85  86  87  88  89]\n",
      " [ 90  91  92  93  94  95  96  97  98  99]]\n"
     ]
    }
   ],
   "source": [
    "# We can create a mask array as follows\n",
    "# enclosing the conditional statement in parentheses is added for clarity\n",
    "mask = (a[:,:]==1)\n",
    "print(mask)\n",
    "\n",
    "#Now we can use the mask to set values\n",
    "a[mask] = 100\n",
    "print(a)"
   ]
  },
  {
   "cell_type": "markdown",
   "metadata": {},
   "source": [
    "## Numpy Where Function\n",
    "\n",
    "The numpy `where` function can be used in one of two ways.  The first way is to return array indices for array elements that meet a condition.  When used in this form, the syntax is:\n",
    "\n",
    "    where(condition)\n",
    "\n",
    "The result is a tuple of size array.ndim, that has an indices for each dimension.\n",
    "\n",
    "The `where` function can also be used with the following form:\n",
    "\n",
    "    where(condition, [x, y])\n",
    "    \n",
    "In this case, the where function returns an array that has the value of x where the condition is true and the value of y where the condition is false."
   ]
  },
  {
   "cell_type": "code",
   "execution_count": 159,
   "metadata": {},
   "outputs": [
    {
     "name": "stdout",
     "output_type": "stream",
     "text": [
      "result:  (array([9, 9, 9, 9, 9, 9, 9, 9, 9]), array([1, 2, 3, 4, 5, 6, 7, 8, 9]))\n",
      "a:  [[   0    1    2    3    4    5    6    7    8    9]\n",
      " [  10   11   12   13   14   15   16   17   18   19]\n",
      " [  20   21   22   23   24   25   26   27   28   29]\n",
      " [  30   31   32   33   34   35   36   37   38   39]\n",
      " [  40   41   42   43   44   45   46   47   48   49]\n",
      " [  50   51   52   53   54   55   56   57   58   59]\n",
      " [  60   61   62   63   64   65   66   67   68   69]\n",
      " [  70   71   72   73   74   75   76   77   78   79]\n",
      " [  80   81   82   83   84   85   86   87   88   89]\n",
      " [  90 -999 -999 -999 -999 -999 -999 -999 -999 -999]]\n"
     ]
    }
   ],
   "source": [
    "#create an array\n",
    "a = np.arange(100).reshape((10,10))\n",
    "\n",
    "#use where with the first form in which only a condition is specified\n",
    "result = np.where(a >90)\n",
    "print('result: ', result)\n",
    "\n",
    "#now we can use this result tuple for array assignments\n",
    "a[result] = -999\n",
    "print('a: ', a)"
   ]
  },
  {
   "cell_type": "code",
   "execution_count": 160,
   "metadata": {},
   "outputs": [
    {
     "data": {
      "text/plain": [
       "array([[   0,    1,    2,    3,    4,    5,    6,    7,    8,    9],\n",
       "       [  10,   11,   12,   13,   14,   15,   16,   17,   18,   19],\n",
       "       [  20,   21,   22,   23,   24,   25,   26,   27,   28,   29],\n",
       "       [  30,   31,   32,   33,   34,   35,   36,   37,   38,   39],\n",
       "       [  40,   41,   42,   43,   44,   45,   46,   47,   48,   49],\n",
       "       [  50,   51,   52,   53,   54,   55,   56,   57,   58,   59],\n",
       "       [  60,   61,   62,   63,   64,   65,   66,   67,   68,   69],\n",
       "       [  70,   71,   72,   73,   74,   75,   76,   77,   78,   79],\n",
       "       [  80,   81,   82,   83,   84,   85,   86,   87,   88,   89],\n",
       "       [  90, -998, -998, -998, -998, -998, -998, -998, -998, -998]])"
      ]
     },
     "execution_count": 160,
     "metadata": {},
     "output_type": "execute_result"
    }
   ],
   "source": [
    "#use where with condition and 'x' and 'y'\n",
    "#let's change all those -999's to -998\n",
    "np.where(a == -999, a + 1, a)"
   ]
  },
  {
   "cell_type": "markdown",
   "metadata": {},
   "source": [
    "## Testing your Skills\n",
    "\n",
    "1. Experiment with the mask and where functionality in numpy.  Create an array of shape (100, 100) that has random values between 0 and 1000.  Then replace all values less than 250 with np.nan and all values greater than 750 with np.nan.  Then plot it."
   ]
  },
  {
   "cell_type": "code",
   "execution_count": 161,
   "metadata": {},
   "outputs": [],
   "source": [
    "# Test your skills!"
   ]
  },
  {
   "cell_type": "markdown",
   "metadata": {},
   "source": [
    "## Comparing arrays\n",
    "element-wise:"
   ]
  },
  {
   "cell_type": "code",
   "execution_count": 162,
   "metadata": {},
   "outputs": [
    {
     "ename": "ValueError",
     "evalue": "operands could not be broadcast together with shapes (10,10) (12,) ",
     "output_type": "error",
     "traceback": [
      "\u001b[31m---------------------------------------------------------------------------\u001b[39m",
      "\u001b[31mValueError\u001b[39m                                Traceback (most recent call last)",
      "\u001b[36mCell\u001b[39m\u001b[36m \u001b[39m\u001b[32mIn[162]\u001b[39m\u001b[32m, line 1\u001b[39m\n\u001b[32m----> \u001b[39m\u001b[32m1\u001b[39m \u001b[43ma\u001b[49m\u001b[43m \u001b[49m\u001b[43m==\u001b[49m\u001b[43m \u001b[49m\u001b[43mc\u001b[49m\n",
      "\u001b[31mValueError\u001b[39m: operands could not be broadcast together with shapes (10,10) (12,) "
     ]
    }
   ],
   "source": [
    "a == c"
   ]
  },
  {
   "cell_type": "markdown",
   "metadata": {},
   "source": [
    "determining if two arrays have the same shape and elements"
   ]
  },
  {
   "cell_type": "code",
   "execution_count": 163,
   "metadata": {},
   "outputs": [
    {
     "data": {
      "text/plain": [
       "(False, False)"
      ]
     },
     "execution_count": 163,
     "metadata": {},
     "output_type": "execute_result"
    }
   ],
   "source": [
    "np.array_equal(a, c), np.array_equal(b, c)"
   ]
  },
  {
   "cell_type": "markdown",
   "metadata": {},
   "source": [
    "### Logical operations"
   ]
  },
  {
   "cell_type": "code",
   "execution_count": 164,
   "metadata": {},
   "outputs": [
    {
     "ename": "ValueError",
     "evalue": "operands could not be broadcast together with shapes (10,10) (12,) ",
     "output_type": "error",
     "traceback": [
      "\u001b[31m---------------------------------------------------------------------------\u001b[39m",
      "\u001b[31mValueError\u001b[39m                                Traceback (most recent call last)",
      "\u001b[36mCell\u001b[39m\u001b[36m \u001b[39m\u001b[32mIn[164]\u001b[39m\u001b[32m, line 1\u001b[39m\n\u001b[32m----> \u001b[39m\u001b[32m1\u001b[39m np.any(\u001b[43ma\u001b[49m\u001b[43m \u001b[49m\u001b[43m==\u001b[49m\u001b[43m \u001b[49m\u001b[43mc\u001b[49m), np.all(a == c)\n",
      "\u001b[31mValueError\u001b[39m: operands could not be broadcast together with shapes (10,10) (12,) "
     ]
    }
   ],
   "source": [
    "np.any(a == c), np.all(a == c)"
   ]
  },
  {
   "cell_type": "markdown",
   "metadata": {},
   "source": [
    "**Note:** `any` and `all` are included in the standard library too"
   ]
  },
  {
   "cell_type": "code",
   "execution_count": 165,
   "metadata": {},
   "outputs": [
    {
     "data": {
      "text/plain": [
       "(True, False)"
      ]
     },
     "execution_count": 165,
     "metadata": {},
     "output_type": "execute_result"
    }
   ],
   "source": [
    "any((True, False)), all((True, False))"
   ]
  }
 ],
 "metadata": {
  "anaconda-cloud": {},
  "celltoolbar": "Raw Cell Format",
  "kernelspec": {
   "display_name": "Python 3 (ipykernel)",
   "language": "python",
   "name": "python3"
  },
  "language_info": {
   "codemirror_mode": {
    "name": "ipython",
    "version": 3
   },
   "file_extension": ".py",
   "mimetype": "text/x-python",
   "name": "python",
   "nbconvert_exporter": "python",
   "pygments_lexer": "ipython3",
   "version": "3.11.12"
  }
 },
 "nbformat": 4,
 "nbformat_minor": 4
}
