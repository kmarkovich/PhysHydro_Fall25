{
 "cells": [
  {
   "cell_type": "markdown",
   "metadata": {},
   "source": [
    "### Making a simple plots using `matplotlib`"
   ]
  },
  {
   "cell_type": "code",
   "execution_count": null,
   "metadata": {},
   "outputs": [],
   "source": [
    "import numpy as np\n",
    "import matplotlib.pyplot as plt\n",
    "%matplotlib inline"
   ]
  },
  {
   "cell_type": "code",
   "execution_count": null,
   "metadata": {},
   "outputs": [],
   "source": [
    "z = np.loadtxt('data/mt_st_helens_before.dat')\n",
    "z2 = np.loadtxt('data/mt_st_helens_after.dat')"
   ]
  },
  {
   "cell_type": "code",
   "execution_count": null,
   "metadata": {},
   "outputs": [],
   "source": [
    "#let's inspect the file\n",
    "z"
   ]
  },
  {
   "cell_type": "markdown",
   "metadata": {},
   "source": [
    "#### set masks for no-data values"
   ]
  },
  {
   "cell_type": "code",
   "execution_count": null,
   "metadata": {},
   "outputs": [],
   "source": [
    "z_mask = np.ma.masked_array(z, mask=(z==0))\n",
    "z2_mask = np.ma.masked_array(z2, mask=(z2==0))\n",
    "nrow, ncol = z.shape"
   ]
  },
  {
   "cell_type": "code",
   "execution_count": null,
   "metadata": {},
   "outputs": [],
   "source": [
    "#let's inspect the file again\n",
    "z"
   ]
  },
  {
   "cell_type": "markdown",
   "metadata": {},
   "source": [
    "### quick and dirty plot of an array using ```plt.imshow```"
   ]
  },
  {
   "cell_type": "code",
   "execution_count": null,
   "metadata": {},
   "outputs": [],
   "source": [
    "plt.imshow(z)\n",
    "plt.colorbar()"
   ]
  },
  {
   "cell_type": "code",
   "execution_count": null,
   "metadata": {},
   "outputs": [],
   "source": []
  },
  {
   "cell_type": "markdown",
   "metadata": {},
   "source": [
    "#### make an x-y plot using the basic pyplot interface using ```plt.plot()```"
   ]
  },
  {
   "cell_type": "code",
   "execution_count": null,
   "metadata": {},
   "outputs": [],
   "source": [
    "plt.plot(range(0, ncol), z[200, :], label='pre-eruption')\n",
    "plt.plot(range(0, ncol), z2[200, :], label='post-eruption')\n",
    "plt.xlabel('Column across raster')\n",
    "plt.ylabel('Elevation in m')\n",
    "plt.title('Mt. St. Helens')\n",
    "plt.legend()"
   ]
  },
  {
   "cell_type": "markdown",
   "metadata": {},
   "source": [
    "### the matplotlib `axes` object, a gateway to data visualizations\n",
    "\n",
    "here we create the same plot but first initialize a `fig` and `ax` object from ```plt.subplots()``` that we then add the plotting elements to it the `ax` object"
   ]
  },
  {
   "cell_type": "code",
   "execution_count": null,
   "metadata": {},
   "outputs": [],
   "source": [
    "fig, ax = plt.subplots() #if you leave args blank, it will assume a single plot\n",
    "ax.plot(range(0, ncol), z[200, :], label='pre-eruption')\n",
    "ax.plot(range(0, ncol), z2[200, :], label='post-eruption')\n",
    "ax.set_xlabel('Column across raster')\n",
    "ax.set_ylabel('Elevation in m')\n",
    "ax.set_title('Mt. St. Helens')\n",
    "ax.legend() \n",
    "\n",
    "#same same, but different! using an axes object (ax) opens the door to much more plotting flexibility"
   ]
  },
  {
   "cell_type": "markdown",
   "metadata": {},
   "source": [
    "#### the `AxesSubplot` interface"
   ]
  },
  {
   "cell_type": "code",
   "execution_count": null,
   "metadata": {},
   "outputs": [],
   "source": [
    "fig, ax = plt.subplots(2, 2, sharex=True, sharey=True)"
   ]
  },
  {
   "cell_type": "code",
   "execution_count": null,
   "metadata": {},
   "outputs": [],
   "source": [
    "ax"
   ]
  },
  {
   "cell_type": "code",
   "execution_count": null,
   "metadata": {},
   "outputs": [],
   "source": [
    "ax[0]"
   ]
  },
  {
   "cell_type": "markdown",
   "metadata": {},
   "source": [
    "#### convert x-axis to meters"
   ]
  },
  {
   "cell_type": "code",
   "execution_count": null,
   "metadata": {},
   "outputs": [],
   "source": [
    "dist = np.linspace(0, 5*5280*.3048, ncol) #each cell is 5 miles, so we need to convert to ft then meters\n",
    "dist"
   ]
  },
  {
   "cell_type": "markdown",
   "metadata": {},
   "source": [
    "#### Make a plot with a specified vertical exaggeration of 2x using ```ax.set_aspect()```"
   ]
  },
  {
   "cell_type": "code",
   "execution_count": null,
   "metadata": {},
   "outputs": [],
   "source": [
    "ve = 2\n",
    "fig, ax = plt.subplots(figsize=(11, 8.5))\n",
    "ax.plot(dist, z[200, :], label='pre-eruption')\n",
    "ax.plot(dist, z2[200, :], label='post-eruption')\n",
    "ax.set_xlabel('Distance in miles')\n",
    "ax.set_ylabel('Elevation in m')\n",
    "ax.set_title('Mt. St. Helens')\n",
    "ax.set_aspect(ve)\n",
    "ax.text(0.98, .65, 'Vertical Exaggeration: {:.0f}'.format(ve),\n",
    "        transform=ax.transAxes, ha='right', va='bottom')\n",
    "xticks = np.arange(0, 6)\n",
    "ax.set_xticks(xticks*1609.) #m to miles\n",
    "ax.set_xticklabels(xticks)\n",
    "ax.tick_params(direction='in')\n",
    "ax.legend(title='Explanation')\n",
    "plt.savefig('mtsthelens.pdf', dpi=300, bbox_inches='tight')"
   ]
  },
  {
   "cell_type": "markdown",
   "metadata": {},
   "source": [
    "The `plt.rcParams` dictionary can be modified to change default matplotlib settings for the current session. For example, changing the default font to a serif font-type:"
   ]
  },
  {
   "cell_type": "code",
   "execution_count": null,
   "metadata": {},
   "outputs": [],
   "source": [
    "sansserif = plt.rcParams['font.family']\n",
    "plt.rcParams['font.family'] = 'serif'\n",
    "# plt.rcParams['font.size'] = 10"
   ]
  },
  {
   "cell_type": "code",
   "execution_count": null,
   "metadata": {},
   "outputs": [],
   "source": [
    "plt.subplots()\n",
    "plt.title('stuff', fontsize=20)"
   ]
  },
  {
   "cell_type": "markdown",
   "metadata": {},
   "source": [
    "#### make a meshgrid\n",
    "of the x and y coorindates of each pixel in the DEM"
   ]
  },
  {
   "cell_type": "code",
   "execution_count": null,
   "metadata": {},
   "outputs": [],
   "source": [
    "x = dist\n",
    "y = np.arange(0, nrow)*x[1]\n",
    "X, Y = np.meshgrid(x, y)"
   ]
  },
  {
   "cell_type": "code",
   "execution_count": null,
   "metadata": {},
   "outputs": [],
   "source": [
    "X.shape, Y.shape"
   ]
  },
  {
   "cell_type": "markdown",
   "metadata": {},
   "source": [
    "#### make a pcolormesh overlain with contours"
   ]
  },
  {
   "cell_type": "code",
   "execution_count": null,
   "metadata": {},
   "outputs": [],
   "source": [
    "fig, ax = plt.subplots(figsize=(11, 8.5))\n",
    "cs = ax.contour(X, Y, np.flipud(z2), colors='k', \n",
    "           levels=np.arange(700, 3000, 100), zorder=11)\n",
    "qm = ax.pcolormesh(X, Y, np.flipud(z2), zorder=-1)\n",
    "cb = plt.colorbar(qm, label='Elevation, in m')\n",
    "ax.clabel(cs, inline=1, fontsize=10, fmt='%1.0f')"
   ]
  },
  {
   "cell_type": "markdown",
   "metadata": {},
   "source": [
    "### let's grab streamflow data for rio grande at embudo and plot!"
   ]
  },
  {
   "cell_type": "code",
   "execution_count": null,
   "metadata": {},
   "outputs": [],
   "source": [
    "import dataretrieval.nwis as nwis\n",
    "import datetime"
   ]
  },
  {
   "cell_type": "code",
   "execution_count": null,
   "metadata": {},
   "outputs": [],
   "source": [
    "today = datetime.datetime.today().strftime('%Y-%m-%d') #that last bit makes sure our date is in the right format\n",
    "today"
   ]
  },
  {
   "cell_type": "code",
   "execution_count": null,
   "metadata": {},
   "outputs": [],
   "source": [
    "# specify the USGS site code for which we want data.\n",
    "site = '08279500'\n",
    "\n",
    "# # get daily values (dv)\n",
    "df = nwis.get_record(sites=site, service='dv', start='1889-01-01', end=today)\n",
    "\n",
    "#did you know the longest continuous streamflow record is here in new mexico!? rio grande at embudo!"
   ]
  },
  {
   "cell_type": "code",
   "execution_count": null,
   "metadata": {},
   "outputs": [],
   "source": [
    "#let's look at it \n",
    "df"
   ]
  },
  {
   "cell_type": "markdown",
   "metadata": {},
   "source": [
    "### what the heck are all of these columns!?"
   ]
  },
  {
   "cell_type": "markdown",
   "metadata": {},
   "source": [
    "They are code identifiers for different parameters. For example, 00010_Mean is daily mean water temperature in degrees Celsius, and 00060_Mean is daily mean streamflow in cubic feet per second.\n",
    "\n",
    "You can query the codes here:\n",
    "https://help.waterdata.usgs.gov/code/parameter_cd_nm_query?parm_nm_cd=%25discharge%25&fmt=html"
   ]
  },
  {
   "cell_type": "markdown",
   "metadata": {},
   "source": [
    "Let's plot streamflow. Below is the basic plotting recipe that will get the job done! Anything after that is extra..."
   ]
  },
  {
   "cell_type": "code",
   "execution_count": null,
   "metadata": {},
   "outputs": [],
   "source": [
    "#first initialize plot\n",
    "fig, ax = plt.subplots()\n",
    "\n",
    "#then plot streamflow as a line. the datetime is the pandas index, \n",
    "ax.plot(df.index,df['00060_Mean'])\n",
    "\n",
    "#now let's add some annotations to the axes and plot\n",
    "ax.set_ylabel('Discharge (cfs)')\n",
    "\n",
    "ax.set_xlabel('Year')\n",
    "\n",
    "ax.set_title('Rio Grande at Embudo')"
   ]
  },
  {
   "cell_type": "code",
   "execution_count": null,
   "metadata": {},
   "outputs": [],
   "source": [
    "#we can easily flip to log-axis, add a grid in the plot background, and change the color and line width\n",
    "\n",
    "#first initialize plot\n",
    "fig, ax = plt.subplots()\n",
    "\n",
    "#then plot streamflow as a line. the datetime is the pandas index, \n",
    "ax.plot(df.index,df['00060_Mean'],color='purple',lw=.5,linestyle='--')\n",
    "\n",
    "#now let's add some annotations to the axes and plot\n",
    "ax.set_ylabel('Discharge (cfs)')\n",
    "\n",
    "ax.set_xlabel('Year')\n",
    "\n",
    "#log scale\n",
    "ax.set_yscale('log')\n",
    "\n",
    "#add grid\n",
    "plt.grid(True)\n",
    "\n",
    "ax.set_title('Rio Grande at Embudo')"
   ]
  }
 ],
 "metadata": {
  "kernelspec": {
   "display_name": "Python 3 (ipykernel)",
   "language": "python",
   "name": "python3"
  },
  "language_info": {
   "codemirror_mode": {
    "name": "ipython",
    "version": 3
   },
   "file_extension": ".py",
   "mimetype": "text/x-python",
   "name": "python",
   "nbconvert_exporter": "python",
   "pygments_lexer": "ipython3",
   "version": "3.11.12"
  }
 },
 "nbformat": 4,
 "nbformat_minor": 4
}
