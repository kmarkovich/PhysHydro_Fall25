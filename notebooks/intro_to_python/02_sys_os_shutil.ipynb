{
 "cells": [
  {
   "cell_type": "markdown",
   "metadata": {},
   "source": [
    "# Introduction to python for hydrologists &mdash; sys, os, and shutil\n",
    "These four packages are part of the standard python library and provide very useful functionality for working with your operating system and files.  This notebook will provide explore these packages and demonstrate some of their functionality.  Online documentation is at [sys](https://docs.python.org/2/library/sys.html \"sys doc\"), [os](https://docs.python.org/2/library/os.html \"os doc\"), [shutil](https://docs.python.org/2/library/shutil.html \"shutil doc\"), and [subprocess](https://docs.python.org/2/library/subprocess.html \"subprocess doc\").\n",
    "\n",
    "Import things to cover:\n",
    "* sys: platform\n",
    "* os: path, chdir, getcwd, listdir\n",
    "* shutil: copy, copytree, rmtree\n",
    "  \n",
    "This notebook was modified from a USGS Intro to python for hydrologists course: https://github.com/mnfienen/python-usgs-training"
   ]
  },
  {
   "cell_type": "code",
   "execution_count": 1,
   "metadata": {},
   "outputs": [],
   "source": [
    "import sys\n",
    "import os\n",
    "import shutil"
   ]
  },
  {
   "cell_type": "markdown",
   "metadata": {},
   "source": [
    "## Sys Module\n",
    "\n",
    "System-specific parameters and functions.\n",
    "\n",
    "The following cells simply print some of the sys methods and attributes that you might find useful."
   ]
  },
  {
   "cell_type": "markdown",
   "metadata": {},
   "source": [
    "When working on collaborative projects, you often will run into issues with different operating systems. For example, Windows uses \\ in paths whereas Mac and Linux use /. ```sys.platform``` detects the platform, which is handy for OS-aware programming."
   ]
  },
  {
   "cell_type": "code",
   "execution_count": 10,
   "metadata": {},
   "outputs": [
    {
     "data": {
      "text/plain": [
       "'darwin'"
      ]
     },
     "execution_count": 10,
     "metadata": {},
     "output_type": "execute_result"
    }
   ],
   "source": [
    "sys.platform"
   ]
  },
  {
   "cell_type": "markdown",
   "metadata": {},
   "source": [
    "## sys.path\n",
    "\n",
    "If you haven't seen `sys.path` already mentioned in a python script, you will soon.  `sys.path` is a list of directories.  This path list is used by python to search for python modules and packages.  If for some reason, you want to use a python package that is not installed in the main python folder, you can add directory containing your module to sys.path."
   ]
  },
  {
   "cell_type": "code",
   "execution_count": 11,
   "metadata": {},
   "outputs": [
    {
     "name": "stdout",
     "output_type": "stream",
     "text": [
      "['/Users/aleaf/Documents/GitHub/python-usgs-training/notebooks/part1_python_intro', '/Users/aleaf/anaconda3/envs/pyclass/lib/python37.zip', '/Users/aleaf/anaconda3/envs/pyclass/lib/python3.7', '/Users/aleaf/anaconda3/envs/pyclass/lib/python3.7/lib-dynload', '', '/Users/aleaf/anaconda3/envs/pyclass/lib/python3.7/site-packages', '/Users/aleaf/Documents/GitHub/flopy', '/Users/aleaf/Documents/GitHub/modflow-export', '/Users/aleaf/Documents/GitHub/gisutils', '/Users/aleaf/anaconda3/envs/pyclass/lib/python3.7/site-packages/IPython/extensions', '/Users/aleaf/.ipython']\n",
      "/Users/aleaf/Documents/GitHub/python-usgs-training/notebooks/part1_python_intro\n",
      "/Users/aleaf/anaconda3/envs/pyclass/lib/python37.zip\n",
      "/Users/aleaf/anaconda3/envs/pyclass/lib/python3.7\n",
      "/Users/aleaf/anaconda3/envs/pyclass/lib/python3.7/lib-dynload\n",
      "\n",
      "/Users/aleaf/anaconda3/envs/pyclass/lib/python3.7/site-packages\n",
      "/Users/aleaf/Documents/GitHub/flopy\n",
      "/Users/aleaf/Documents/GitHub/modflow-export\n",
      "/Users/aleaf/Documents/GitHub/gisutils\n",
      "/Users/aleaf/anaconda3/envs/pyclass/lib/python3.7/site-packages/IPython/extensions\n",
      "/Users/aleaf/.ipython\n"
     ]
    }
   ],
   "source": [
    "# Or more elegantly\n",
    "for pth in sys.path:\n",
    "    print(pth)"
   ]
  },
  {
   "cell_type": "markdown",
   "metadata": {},
   "source": [
    "A common way that we add a folder to sys.path is as follows:\n",
    "\n",
    "    pathtomymodule = os.path.join('..')\n",
    "    if pathtomymodule not in sys.path:\n",
    "        sys.path.append(pathtomymodule)\n",
    "\n",
    "This will allow us to import any modules or packages that are up one directory from the current working directory.  Keep this in mind as we use this throughout the class exercises."
   ]
  },
  {
   "cell_type": "markdown",
   "metadata": {},
   "source": [
    "## os Module\n",
    "Module for providing portable operating system functionality."
   ]
  },
  {
   "cell_type": "code",
   "execution_count": 12,
   "metadata": {},
   "outputs": [
    {
     "name": "stdout",
     "output_type": "stream",
     "text": [
      "os.name:  posix\n"
     ]
    }
   ],
   "source": [
    "print('os.name: ', os.name)"
   ]
  },
  {
   "cell_type": "code",
   "execution_count": 14,
   "metadata": {},
   "outputs": [
    {
     "name": "stdout",
     "output_type": "stream",
     "text": [
      "/Users/aleaf/Documents/GitHub/python-usgs-training/notebooks/part1_python_intro\n"
     ]
    }
   ],
   "source": [
    "cwd = os.getcwd()\n",
    "print(cwd)"
   ]
  },
  {
   "cell_type": "code",
   "execution_count": 15,
   "metadata": {},
   "outputs": [
    {
     "name": "stdout",
     "output_type": "stream",
     "text": [
      "directory:  extracted_data\n",
      "file:  09_sys-os.ipynb\n",
      "file:  02_functions.ipynb\n",
      "file:  TheisExercise.pdf\n",
      "file:  06_numpy.ipynb\n",
      "file:  .DS_Store\n",
      "file:  08_namespace.ipynb\n",
      "file:  Pandas_weather_timeseries_Wunderground.ipynb\n",
      "directory:  images\n",
      "file:  Untitled.ipynb\n",
      "file:  Pandas_NWIS.ipynb\n",
      "file:  04_objects.ipynb\n",
      "file:  Pandas_ColoradoRiver-FFT.ipynb\n",
      "file:  gis_vector_msn_crime.ipynb\n",
      "file:  05_files.ipynb\n",
      "file:  TheisExercise.tex\n",
      "file:  03_scripts.ipynb\n",
      "file:  mtsthelens.pdf\n",
      "directory:  .ipynb_checkpoints\n",
      "file:  Matplotlib_StHelens.ipynb\n",
      "file:  gis_raster_mt_rainier_glaciers.ipynb\n",
      "file:  xarray_mt_rainier_precip.ipynb\n",
      "file:  Pandas_ColoradoRiver.ipynb\n",
      "directory:  data\n",
      "file:  tmp\n",
      "file:  01_basics.ipynb\n",
      "file:  junk.zip\n",
      "file:  LeesFerryOnePlot.pdf\n"
     ]
    }
   ],
   "source": [
    "#list all the entries in the specified directory. \n",
    "mylistofitems = os.listdir(os.getcwd())\n",
    "for thingy in mylistofitems:\n",
    "    if os.path.isdir(thingy):\n",
    "        print('directory: ', thingy)\n",
    "    else:\n",
    "        print('file: ', thingy)"
   ]
  },
  {
   "cell_type": "code",
   "execution_count": 16,
   "metadata": {},
   "outputs": [
    {
     "name": "stdout",
     "output_type": "stream",
     "text": [
      "Now in:  /Users/aleaf/Documents/GitHub/python-usgs-training/notebooks\n",
      "Switched back to:  /Users/aleaf/Documents/GitHub/python-usgs-training/notebooks/part1_python_intro\n"
     ]
    }
   ],
   "source": [
    "# Example of changing the working directory\n",
    "old_wd = os.getcwd()\n",
    "\n",
    "# Go up one directory\n",
    "os.chdir('..')\n",
    "cwd = os.getcwd()\n",
    "print ('Now in: ', cwd)\n",
    "\n",
    "# Change back to original\n",
    "os.chdir(old_wd)\n",
    "cwd = os.getcwd()\n",
    "print('Switched back to: ', cwd)"
   ]
  },
  {
   "cell_type": "markdown",
   "metadata": {},
   "source": [
    "## Glob\n",
    "The glob library provides handy shorthand for listing files using patterns and wildcard (*) characters\n",
    "\n",
    "https://en.wikipedia.org/wiki/Glob_(programming)\n",
    "\n",
    "**Note!** Sorting of the files returned by `Glob` is platform-dependent. In general, if your code depends on a specific ordering of a list, it is best to explicitly sort it yourself using `sorted()` or `.sort()`, instead of depending on the behavior of an imported module.  \n",
    "https://arstechnica.com/information-technology/2019/10/chemists-discover-cross-platform-python-scripts-not-so-cross-platform/"
   ]
  },
  {
   "cell_type": "code",
   "execution_count": 17,
   "metadata": {},
   "outputs": [],
   "source": [
    "import glob"
   ]
  },
  {
   "cell_type": "code",
   "execution_count": 18,
   "metadata": {},
   "outputs": [
    {
     "data": {
      "text/plain": [
       "['09_sys-os.ipynb',\n",
       " '02_functions.ipynb',\n",
       " '06_numpy.ipynb',\n",
       " '08_namespace.ipynb',\n",
       " 'Pandas_weather_timeseries_Wunderground.ipynb',\n",
       " 'Untitled.ipynb',\n",
       " 'Pandas_NWIS.ipynb',\n",
       " '04_objects.ipynb',\n",
       " 'Pandas_ColoradoRiver-FFT.ipynb',\n",
       " 'gis_vector_msn_crime.ipynb',\n",
       " '05_files.ipynb',\n",
       " '03_scripts.ipynb',\n",
       " 'Matplotlib_StHelens.ipynb',\n",
       " 'gis_raster_mt_rainier_glaciers.ipynb',\n",
       " 'xarray_mt_rainier_precip.ipynb',\n",
       " 'Pandas_ColoradoRiver.ipynb',\n",
       " '01_basics.ipynb']"
      ]
     },
     "execution_count": 18,
     "metadata": {},
     "output_type": "execute_result"
    }
   ],
   "source": [
    "# list all of the Jupyter notebooks in the current working directory\n",
    "glob.glob('*.ipynb')"
   ]
  },
  {
   "cell_type": "code",
   "execution_count": 19,
   "metadata": {},
   "outputs": [
    {
     "data": {
      "text/plain": [
       "['01_basics.ipynb',\n",
       " '02_functions.ipynb',\n",
       " '03_scripts.ipynb',\n",
       " '04_objects.ipynb',\n",
       " '05_files.ipynb',\n",
       " '06_numpy.ipynb',\n",
       " '08_namespace.ipynb',\n",
       " '09_sys-os.ipynb',\n",
       " 'Matplotlib_StHelens.ipynb',\n",
       " 'Pandas_ColoradoRiver-FFT.ipynb',\n",
       " 'Pandas_ColoradoRiver.ipynb',\n",
       " 'Pandas_NWIS.ipynb',\n",
       " 'Pandas_weather_timeseries_Wunderground.ipynb',\n",
       " 'Untitled.ipynb',\n",
       " 'gis_raster_mt_rainier_glaciers.ipynb',\n",
       " 'gis_vector_msn_crime.ipynb',\n",
       " 'xarray_mt_rainier_precip.ipynb']"
      ]
     },
     "execution_count": 19,
     "metadata": {},
     "output_type": "execute_result"
    }
   ],
   "source": [
    "sorted(glob.glob('*.ipynb'))"
   ]
  },
  {
   "cell_type": "markdown",
   "metadata": {},
   "source": [
    "## os.path\n",
    "\n",
    "os.path is a very widely used submodule of os.  In fact we use it in almost all of the class notebooks and scripts to deal with file system paths.  Some common os.path functions are:\n",
    "\n",
    "    os.path.join() #build a path from its parts (can be absolute or relative, relative is much easier to type...)\n",
    "    os.path.exists()#check if path exists\n",
    "    os.path.isdir()#check if path is a directory "
   ]
  },
  {
   "cell_type": "markdown",
   "metadata": {},
   "source": [
    "os has other handy tricks, such as to create an empty directory (```os.mkdir()```), remove a file (```os.remove()```), and remove a directory (```os.rmdir()```)"
   ]
  },
  {
   "cell_type": "markdown",
   "metadata": {},
   "source": [
    "let's put it all together..."
   ]
  },
  {
   "cell_type": "code",
   "execution_count": 6,
   "metadata": {},
   "outputs": [
    {
     "name": "stdout",
     "output_type": "stream",
     "text": [
      "['.DS_Store', 'Pandas_weather_timeseries_Wunderground.ipynb', 'new_directory', '03_scripts.ipynb', '03_functions_scripts.ipynb', '.ipynb_checkpoints', 'Matplotlib_StHelens.ipynb', '02_sys_os_shutil.ipynb', 'Pandas_ColoradoRiver.ipynb', '04_numpy.ipynb', '01_basics.ipynb', '05_pandas.ipynb']\n",
      "dir existed, so we removed it\n",
      "['.DS_Store', 'Pandas_weather_timeseries_Wunderground.ipynb', 'new_directory', '03_scripts.ipynb', '03_functions_scripts.ipynb', '.ipynb_checkpoints', 'Matplotlib_StHelens.ipynb', '02_sys_os_shutil.ipynb', 'Pandas_ColoradoRiver.ipynb', '04_numpy.ipynb', '01_basics.ipynb', '05_pandas.ipynb']\n"
     ]
    }
   ],
   "source": [
    "#we want to create a directory\n",
    "\n",
    "#first let's list what's in the current directory again\n",
    "print(os.listdir(os.getcwd()))\n",
    "\n",
    "#let's give it a name\n",
    "new_dir = os.path.join('new_directory')\n",
    "\n",
    "#check if it exists, and if so, let's remove it\n",
    "if os.path.exists(new_dir):\n",
    "    os.rmdir(new_dir)\n",
    "    print('dir existed, so we removed it')\n",
    "os.mkdir(new_dir)\n",
    "\n",
    "#now let's list the contents of the directory again\n",
    "print(os.listdir(os.getcwd()))"
   ]
  },
  {
   "cell_type": "markdown",
   "metadata": {},
   "source": [
    "## shutil Module\n",
    "shutil is a high level file managment module for copying, moving, and deleting files and directories.\n",
    "\n",
    "The functions from shutil that you may find useful are:\n",
    "\n",
    "    shutil.copy2(from_path, to_path) #copy a single file\n",
    "    shutil.copytree(from_path,to_path) #recursively copy the contents of a directory to another\n",
    "    shutil.move() #move a file or directory\n",
    "    shutil.rmtree()  #remove a directory (better choice than os.rmdir). obviously, you need to be careful with this one!\n",
    "    \n",
    "Give these guys a shot and see what they do.  Remember, you can always get help by typing:\n",
    "\n",
    "    help(shutil.copy)\n"
   ]
  },
  {
   "cell_type": "code",
   "execution_count": 8,
   "metadata": {},
   "outputs": [
    {
     "name": "stdout",
     "output_type": "stream",
     "text": [
      "/Users/kmarkovich/Desktop/PhysHydro_Fall25/notebooks/intro_to_python\n"
     ]
    },
    {
     "data": {
      "text/plain": [
       "['environment.yml']"
      ]
     },
     "execution_count": 8,
     "metadata": {},
     "output_type": "execute_result"
    }
   ],
   "source": [
    "#let's give it a try. let's copy the environment.yml file into the new directory we just made\n",
    "print(os.getcwd())\n",
    "shutil.copy2(os.path.join('..','..','environment.yml'),os.path.join(new_dir,'environment.yml'))\n",
    "os.listdir(new_dir)\n"
   ]
  },
  {
   "cell_type": "code",
   "execution_count": null,
   "metadata": {},
   "outputs": [],
   "source": [
    "#now try copying the contents of a directory to new_dir\n"
   ]
  }
 ],
 "metadata": {
  "anaconda-cloud": {},
  "kernelspec": {
   "display_name": "Python 3 (ipykernel)",
   "language": "python",
   "name": "python3"
  },
  "language_info": {
   "codemirror_mode": {
    "name": "ipython",
    "version": 3
   },
   "file_extension": ".py",
   "mimetype": "text/x-python",
   "name": "python",
   "nbconvert_exporter": "python",
   "pygments_lexer": "ipython3",
   "version": "3.11.12"
  }
 },
 "nbformat": 4,
 "nbformat_minor": 4
}
